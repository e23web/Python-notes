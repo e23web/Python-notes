{
 "cells": [
  {
   "cell_type": "markdown",
   "metadata": {},
   "source": [
    "# windows初次运行 Git 前的配置"
   ]
  },
  {
   "cell_type": "markdown",
   "metadata": {},
   "source": [
    "## 设置用户信息（用户名称与邮件地址）"
   ]
  },
  {
   "cell_type": "code",
   "execution_count": null,
   "metadata": {},
   "outputs": [],
   "source": [
    "$ git config --global user.name \"wang-ming-chuan\"\n",
    "$ git config --global user.email python_go@163.com"
   ]
  },
  {
   "cell_type": "markdown",
   "metadata": {},
   "source": [
    "## 配置默认文本编辑器"
   ]
  },
  {
   "cell_type": "code",
   "execution_count": null,
   "metadata": {},
   "outputs": [],
   "source": [
    "# VSCode（需要提前安装VSCode）\n",
    "$ git config --global core.editor \"code --wait\""
   ]
  },
  {
   "cell_type": "markdown",
   "metadata": {},
   "source": [
    "## 检查配置信息"
   ]
  },
  {
   "cell_type": "code",
   "execution_count": null,
   "metadata": {},
   "outputs": [],
   "source": [
    "$ git config --list\n",
    "core.symlinks=false\n",
    "core.autocrlf=true\n",
    "core.fscache=true\n",
    "color.diff=auto\n",
    "color.status=auto\n",
    "color.branch=auto\n",
    "color.interactive=true\n",
    "help.format=html\n",
    "rebase.autosquash=true\n",
    "http.sslbackend=openssl\n",
    "http.sslcainfo=D:/APP/Git/mingw64/ssl/certs/ca-bundle.crt\n",
    "credential.helper=manager\n",
    "user.name=wang-ming-chuan\n",
    "user.email=python_go@163.com\n",
    "core.editor=code--wait"
   ]
  },
  {
   "cell_type": "markdown",
   "metadata": {},
   "source": [
    "## 查看使用手册\n",
    "有三种方法可以找到 Git 命令的使用手册："
   ]
  },
  {
   "cell_type": "code",
   "execution_count": null,
   "metadata": {},
   "outputs": [],
   "source": [
    "$ git help <verb>\n",
    "$ git <verb> --help\n",
    "$ man git-<verb>"
   ]
  },
  {
   "cell_type": "markdown",
   "metadata": {},
   "source": [
    "例如，要想获得 config 命令的手册，执行"
   ]
  },
  {
   "cell_type": "code",
   "execution_count": null,
   "metadata": {},
   "outputs": [],
   "source": [
    "$ git help config"
   ]
  }
 ],
 "metadata": {
  "kernelspec": {
   "display_name": "Python 3",
   "language": "python",
   "name": "python3"
  },
  "language_info": {
   "codemirror_mode": {
    "name": "ipython",
    "version": 3
   },
   "file_extension": ".py",
   "mimetype": "text/x-python",
   "name": "python",
   "nbconvert_exporter": "python",
   "pygments_lexer": "ipython3",
   "version": "3.7.3"
  }
 },
 "nbformat": 4,
 "nbformat_minor": 2
}
